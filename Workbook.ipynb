{
  "nbformat": 4,
  "nbformat_minor": 0,
  "metadata": {
    "colab": {
      "name": "Workbook.ipynb",
      "version": "0.3.2",
      "provenance": [],
      "collapsed_sections": [],
      "include_colab_link": true
    },
    "kernelspec": {
      "name": "python3",
      "display_name": "Python 3"
    },
    "accelerator": "GPU"
  },
  "cells": [
    {
      "cell_type": "markdown",
      "metadata": {
        "id": "view-in-github",
        "colab_type": "text"
      },
      "source": [
        "<a href=\"https://colab.research.google.com/github/yellowjacketcoder/NanoDroid/blob/master/Workbook.ipynb\" target=\"_parent\"><img src=\"https://colab.research.google.com/assets/colab-badge.svg\" alt=\"Open In Colab\"/></a>"
      ]
    },
    {
      "cell_type": "code",
      "metadata": {
        "id": "rwO9abr3h24D",
        "colab_type": "code",
        "cellView": "both",
        "colab": {}
      },
      "source": [
        "!sudo apt-get upgrade -y plowshare nodejs python3-libtorrent libssl-dev gcc autoconf automake pkg-config git megatools"
      ],
      "execution_count": 0,
      "outputs": []
    },
    {
      "cell_type": "code",
      "metadata": {
        "id": "7EkCRhFXHsLh",
        "colab_type": "code",
        "colab": {}
      },
      "source": [
        "!plowmod -i https://github.com/yellowjacketcoder/plowshare-module-mega.git"
      ],
      "execution_count": 0,
      "outputs": []
    },
    {
      "cell_type": "code",
      "metadata": {
        "id": "uXdT1jnvH5VJ",
        "colab_type": "code",
        "colab": {}
      },
      "source": [
        "cd ~/.config/plowshare/modules.d/mega.git"
      ],
      "execution_count": 0,
      "outputs": []
    },
    {
      "cell_type": "code",
      "metadata": {
        "id": "mM_dFpNrH8hU",
        "colab_type": "code",
        "colab": {}
      },
      "source": [
        "!./autogen.sh"
      ],
      "execution_count": 0,
      "outputs": []
    },
    {
      "cell_type": "code",
      "metadata": {
        "id": "QreGGex6IgPA",
        "colab_type": "code",
        "colab": {}
      },
      "source": [
        "!./configure --enable-local"
      ],
      "execution_count": 0,
      "outputs": []
    },
    {
      "cell_type": "code",
      "metadata": {
        "id": "-2QItiZGImkY",
        "colab_type": "code",
        "colab": {}
      },
      "source": [
        "!make"
      ],
      "execution_count": 0,
      "outputs": []
    },
    {
      "cell_type": "code",
      "metadata": {
        "id": "ypBZGGgy-5L-",
        "colab_type": "code",
        "colab": {}
      },
      "source": [
        "import os\n",
        "os.environ['PLOWSHARE_DEBIAN_JS'] = 'yes'"
      ],
      "execution_count": 0,
      "outputs": []
    },
    {
      "cell_type": "code",
      "metadata": {
        "id": "r8vrzLgfq_Bj",
        "colab_type": "code",
        "colab": {}
      },
      "source": [
        "from google.colab import drive\n",
        "drive.mount('/content/drive')"
      ],
      "execution_count": 0,
      "outputs": []
    },
    {
      "cell_type": "code",
      "metadata": {
        "colab_type": "code",
        "id": "AfFlaA1hnhEF",
        "colab": {}
      },
      "source": [
        "cd '/content/drive/My Drive/TV Series/One Piece'"
      ],
      "execution_count": 0,
      "outputs": []
    },
    {
      "cell_type": "code",
      "metadata": {
        "id": "wQoJKvS8JMCE",
        "colab_type": "code",
        "colab": {}
      },
      "source": [
        "ls"
      ],
      "execution_count": 0,
      "outputs": []
    },
    {
      "cell_type": "code",
      "metadata": {
        "id": "mqSo07uaSN3e",
        "colab_type": "code",
        "colab": {}
      },
      "source": [
        "!plowdown 'https://mega.nz/#!qYEHiahR!UJJAVU2eiZP1wZfDh0Tx938LMlL5sDfHT2u_hK17awE'"
      ],
      "execution_count": 0,
      "outputs": []
    },
    {
      "cell_type": "code",
      "metadata": {
        "id": "8LAVyFu0b_33",
        "colab_type": "code",
        "colab": {
          "base_uri": "https://localhost:8080/",
          "height": 293
        },
        "outputId": "e8d55a05-b943-42df-abd1-83ad90118ba4"
      },
      "source": [
        "#One Piece Season 3\n",
        "!megadl 'https://mega.nz/#F!qwIABQDQ!oyWZdetp0F4WfG1oiOyuRw'"
      ],
      "execution_count": 8,
      "outputs": [
        {
          "output_type": "stream",
          "text": [
            "ERROR: File already exists at /content/drive/My Drive/TV Series/One Piece/One Piece - 090 - Hiriluk's Cherry Blossoms! Miracle in the Drum Rockies! [1080p][x264][AC3][SUB]-df68.mkv\n",
            "ERROR: File already exists at /content/drive/My Drive/TV Series/One Piece/One Piece - 086 - Hiriluk's Cherry Blossoms and the Will that Gets Carried On! [1080p][x264][AC3][SUB]-df68.mkv\n",
            "ERROR: File already exists at /content/drive/My Drive/TV Series/One Piece/One Piece - 082 - Dalton's Resolve! Wapol's Corps Lands on the Island! [1080p][x264][AC3][SUB]-df68.mkv\n",
            "ERROR: File already exists at /content/drive/My Drive/TV Series/One Piece/One Piece - 078 - Nami's Sick! Beyond the Snow Falling on the Sea! [1080p][x264][AC3][SUB]-df68.mkv\n",
            "ERROR: File already exists at /content/drive/My Drive/TV Series/One Piece/One Piece - 089 - When the Kingdom's Rule Ends! The Flag of Faith Flies Forever! [1080p][x264][AC3][SUB]-df68.mkv\n",
            "ERROR: File already exists at /content/drive/My Drive/TV Series/One Piece/One Piece - 085 - An Outcast's Dream! Hiriluk the Quack! [1080p][x264][AC3][SUB]-df68.mkv\n",
            "ERROR: File already exists at /content/drive/My Drive/TV Series/One Piece/One Piece - 081 - Are You Happy! The Doctor Called Witch! [1080p][x264][AC3][SUB]-df68.mkv\n",
            "ERROR: File already exists at /content/drive/My Drive/TV Series/One Piece/One Piece - 091 - Goodbye Drum Island! I'm Going Out to Sea! [1080p][x264][AC3][SUB]-df68.mkv\n",
            "ERROR: File already exists at /content/drive/My Drive/TV Series/One Piece/One Piece - 087 - Fight Wapol's Crew! The Power of the Munch Munch Fruit! [1080p][x264][AC3][SUB]-df68.mkv\n",
            "ERROR: File already exists at /content/drive/My Drive/TV Series/One Piece/One Piece - 083 - The Island Where Snow Lives! Climb the Drum Rockies! [1080p][x264][AC3][SUB]-df68.mkv\n",
            "ERROR: File already exists at /content/drive/My Drive/TV Series/One Piece/One Piece - 079 - A Raid! The Tin Tyrant and Tin Plate Wapol! [1080p][x264][AC3][SUB]-df68.mkv\n",
            "ERROR: File already exists at /content/drive/My Drive/TV Series/One Piece/One Piece - 092 - Alabasta's Hero and a Ballerina on the Ship! [1080p][x264][AC3][SUB]-df68.mkv\n",
            "ERROR: File already exists at /content/drive/My Drive/TV Series/One Piece/One Piece - 088 - Zoan-type Devil Fruit! Chopper's Seven-form Transformation! [1080p][x264][AC3][SUB]-df68.mkv\n",
            "ERROR: File already exists at /content/drive/My Drive/TV Series/One Piece/One Piece - 084 - Blue-nosed Reindeer! Chopper's Secret! [1080p][x264][AC3][SUB]-df68.mkv\n",
            "ERROR: File already exists at /content/drive/My Drive/TV Series/One Piece/One Piece - 080 - An Island without Doctorsd Adventure in a Nameless Land! [1080p][x264][AC3][SUB]-df68.mkv\n"
          ],
          "name": "stdout"
        }
      ]
    },
    {
      "cell_type": "code",
      "metadata": {
        "id": "84zwAUSPeUZ4",
        "colab_type": "code",
        "colab": {}
      },
      "source": [
        "#One Piece Season 4\n",
        "!megadl 'https://mega.nz/#F!XxQSXaxR!YwPS5ysmZe8yfJEWviDzTg'"
      ],
      "execution_count": 0,
      "outputs": []
    },
    {
      "cell_type": "code",
      "metadata": {
        "id": "r8bLe7lGeVPX",
        "colab_type": "code",
        "colab": {}
      },
      "source": [
        "#One Piece Season 5\n",
        "!megadl 'https://mega.nz/#F!ehYCySgR!PNzEF_Xbd6ugroaciHmVYQ'"
      ],
      "execution_count": 0,
      "outputs": []
    },
    {
      "cell_type": "code",
      "metadata": {
        "id": "3Luh4R9TeVtK",
        "colab_type": "code",
        "colab": {}
      },
      "source": [
        "#One Piece Season 6\n",
        "!megadl 'https://mega.nz/#F!erggRYYK!N8RAw-kCipDP_GzVFvWoxA'"
      ],
      "execution_count": 0,
      "outputs": []
    },
    {
      "cell_type": "code",
      "metadata": {
        "id": "X0VAhHRueWr4",
        "colab_type": "code",
        "colab": {}
      },
      "source": [
        "#One Piece Season 7\n",
        "!megadl 'https://mega.nz/#F!G35knCba!y6LexlCFnC0R76PHs6yK5A'"
      ],
      "execution_count": 0,
      "outputs": []
    },
    {
      "cell_type": "code",
      "metadata": {
        "id": "PP0OXTNKkyDz",
        "colab_type": "code",
        "colab": {}
      },
      "source": [
        "cd '/content/drive/My Drive/Movies/James Bond'"
      ],
      "execution_count": 0,
      "outputs": []
    },
    {
      "cell_type": "code",
      "metadata": {
        "id": "PSWtcrrSkgsc",
        "colab_type": "code",
        "colab": {}
      },
      "source": [
        "#James Bond Collection Part 1\n",
        "!megadl 'https://mega.nz/#F!KHoCDILJ!MPV3IWWvESs2kC-HgZSZGQ'"
      ],
      "execution_count": 0,
      "outputs": []
    },
    {
      "cell_type": "code",
      "metadata": {
        "id": "zMOtFiTHklRY",
        "colab_type": "code",
        "colab": {}
      },
      "source": [
        "#James Bond Collection Part 2\n",
        "!megadl 'https://mega.nz/#F!7L5WlIRI!V2S1u5VW0a2hXLuoKlZZsw'"
      ],
      "execution_count": 0,
      "outputs": []
    },
    {
      "cell_type": "code",
      "metadata": {
        "id": "JPdZlsoVoywl",
        "colab_type": "code",
        "colab": {}
      },
      "source": [
        "!man megadl"
      ],
      "execution_count": 0,
      "outputs": []
    },
    {
      "cell_type": "code",
      "metadata": {
        "id": "FyVbjvG2qo7_",
        "colab_type": "code",
        "colab": {}
      },
      "source": [
        "cd  '/content/drive/My Drive/Movies/Hindi/Uri TSS'"
      ],
      "execution_count": 0,
      "outputs": []
    },
    {
      "cell_type": "code",
      "metadata": {
        "id": "1aHSrbJ0gBY0",
        "colab_type": "code",
        "colab": {}
      },
      "source": [
        "!sudo apt install rhash"
      ],
      "execution_count": 0,
      "outputs": []
    },
    {
      "cell_type": "code",
      "metadata": {
        "id": "pZQp3U4CscKc",
        "colab_type": "code",
        "colab": {}
      },
      "source": [
        "!7z t *.zip"
      ],
      "execution_count": 0,
      "outputs": []
    },
    {
      "cell_type": "code",
      "metadata": {
        "id": "zUuex27CJP38",
        "colab_type": "code",
        "colab": {}
      },
      "source": [
        "!unzip -t *.zip"
      ],
      "execution_count": 0,
      "outputs": []
    },
    {
      "cell_type": "code",
      "metadata": {
        "id": "fXxjOFisgPTJ",
        "colab_type": "code",
        "colab": {}
      },
      "source": [
        "!unrar x *.part1.rar"
      ],
      "execution_count": 0,
      "outputs": []
    },
    {
      "cell_type": "code",
      "metadata": {
        "id": "bjEpathbY2E6",
        "colab_type": "code",
        "colab": {}
      },
      "source": [
        "!md5sum -c 'Hindi.md5' > log.txt"
      ],
      "execution_count": 0,
      "outputs": []
    },
    {
      "cell_type": "code",
      "metadata": {
        "id": "YCKIjyOdNRd2",
        "colab_type": "code",
        "colab": {}
      },
      "source": [
        "!sudo apt-get install -y nano"
      ],
      "execution_count": 0,
      "outputs": []
    },
    {
      "cell_type": "code",
      "metadata": {
        "colab_type": "code",
        "id": "5CCE4i05Zn-B",
        "cellView": "both",
        "colab": {}
      },
      "source": [
        "!python ./OP.py > out.txt"
      ],
      "execution_count": 0,
      "outputs": []
    },
    {
      "cell_type": "code",
      "metadata": {
        "id": "MedOkV9h7z2g",
        "colab_type": "code",
        "colab": {}
      },
      "source": [
        "cd '/content/drive/My Drive/ROMS'\n",
        "\n",
        "!megadl 'https://mega.nz/#!SEA1ARrQ!TLAiO_iBylhvI-8rpK1AAcPfblpQe6anNUoFsz9a6ZY'"
      ],
      "execution_count": 0,
      "outputs": []
    },
    {
      "cell_type": "code",
      "metadata": {
        "colab_type": "code",
        "id": "yl3TrCvv750V",
        "colab": {}
      },
      "source": [
        "import libtorrent as lt\n",
        "import time\n",
        "import sys\n",
        "\n",
        "ses = lt.session()\n",
        "ses.listen_on(6881, 6891)\n",
        "\n",
        "link = \"magnet:?xt=urn:btih:cbb43e31ad53512e6efbfe432eb99b933e783405&dn=%5Bdf68%5D%20One%20Piece%20Season%2001%20-%20Part%201%20%5B1080p%5D%5Bx264%5D%5BJPN%5D%5BSUB%5D&tr=http%3A%2F%2Fnyaa.tracker.wf%3A7777%2Fannounce&tr=udp%3A%2F%2Fopen.stealth.si%3A80%2Fannounce&tr=udp%3A%2F%2Ftracker.opentrackr.org%3A1337%2Fannounce&tr=udp%3A%2F%2Ftracker.coppersurfer.tk%3A6969%2Fannounce&tr=udp%3A%2F%2Fexodus.desync.com%3A6969%2Fannounce\"\n",
        "params = { 'save_path': '/content/drive/My Drive/Movies'}\n",
        "h = lt.add_magnet_uri(ses,link,params)\n",
        "print(\"starting\", h.name())\n",
        "\n",
        "while not h.is_seed():\n",
        "    s = h.status()\n",
        "\n",
        "    state_str = [\n",
        "        \"queued\",\n",
        "        \"checking\",\n",
        "        \"downloading metadata\",\n",
        "        \"downloading\",\n",
        "        \"finished\",\n",
        "        \"seeding\",\n",
        "        \"allocating\",\n",
        "        \"checking fastresume\",\n",
        "    ]\n",
        "    print(\n",
        "        \"\\r%.2f%% complete (down: %.1f kb/s up: %.1f kB/s peers: %d) %s\"\n",
        "        % (\n",
        "            s.progress * 100,\n",
        "            s.download_rate / 1000,\n",
        "            s.upload_rate / 1000,\n",
        "            s.num_peers,\n",
        "            state_str[s.state],\n",
        "        )\n",
        "    )\n",
        "    sys.stdout.flush()\n",
        "    time.sleep(1)\n",
        "\n",
        "print(h.name(), \"complete\")"
      ],
      "execution_count": 0,
      "outputs": []
    },
    {
      "cell_type": "code",
      "metadata": {
        "colab_type": "code",
        "id": "ndPvyrbM7xap",
        "colab": {}
      },
      "source": [
        "import libtorrent as lt\n",
        "import time\n",
        "import sys\n",
        "\n",
        "ses = lt.session()\n",
        "ses.listen_on(6881, 6891)\n",
        "\n",
        "link = 'magnet:?xt=urn:btih:358083e3c9a67c192817f432481422ce95a5d48b&dn=BrattySis+-+Emma+Hix+-+My+Princess+Sister+02.08.2019+mp4&tr=http%3A%2F%2Ftracker.trackerfix.com%3A80%2Fannounce&tr=udp%3A%2F%2F9.rarbg.me%3A2730&tr=udp%3A%2F%2F9.rarbg.to%3A2780'\n",
        "params = { 'save_path': '/content/drive/My Drive/TV Series'}\n",
        "h = lt.add_magnet_uri(ses,link,params)\n",
        "print(\"starting\", h.name())\n",
        "\n",
        "while not h.is_seed():\n",
        "    s = h.status()\n",
        "\n",
        "    state_str = [\n",
        "        \"queued\",\n",
        "        \"checking\",\n",
        "        \"downloading metadata\",\n",
        "        \"downloading\",\n",
        "        \"finished\",\n",
        "        \"seeding\",\n",
        "        \"allocating\",\n",
        "        \"checking fastresume\",\n",
        "    ]\n",
        "    print(\n",
        "        \"\\r%.2f%% complete (down: %.1f kb/s up: %.1f kB/s peers: %d) %s\"\n",
        "        % (\n",
        "            s.progress * 100,\n",
        "            s.download_rate / 1000,\n",
        "            s.upload_rate / 1000,\n",
        "            s.num_peers,\n",
        "            state_str[s.state],\n",
        "        )\n",
        "    )\n",
        "    sys.stdout.flush()\n",
        "    time.sleep(1)\n",
        "\n",
        "print(h.name(), \"complete\")"
      ],
      "execution_count": 0,
      "outputs": []
    },
    {
      "cell_type": "code",
      "metadata": {
        "colab_type": "code",
        "id": "vzPHeuscXE4C",
        "colab": {}
      },
      "source": [
        "import libtorrent as lt\n",
        "import time\n",
        "import sys\n",
        "\n",
        "ses = lt.session()\n",
        "ses.listen_on(6881, 6891)\n",
        "\n",
        "params = { 'save_path': '/content/drive/My Drive/Movies'}\n",
        "link = \"magnet:?xt=urn:btih:80f20cc86c9161bc52b7b847df27ef2d89f6be50&dn=SisLovesMe+-+Abella+Danger+-+Knocking+On+Stepbros+Morning+Wood+mp4&tr=http%3A%2F%2Ftracker.trackerfix.com%3A80%2Fannounce&tr=udp%3A%2F%2F9.rarbg.me%3A2780&tr=udp%3A%2F%2F9.rarbg.to%3A2750\"\n",
        "h = lt.add_magnet_uri(ses, link, params)\n",
        "print(\"starting\", h.name())\n",
        "\n",
        "while not h.is_seed():\n",
        "    s = h.status()\n",
        "\n",
        "    state_str = [\n",
        "        \"queued\",\n",
        "        \"checking\",\n",
        "        \"downloading metadata\",\n",
        "        \"downloading\",\n",
        "        \"finished\",\n",
        "        \"seeding\",\n",
        "        \"allocating\",\n",
        "        \"checking fastresume\",\n",
        "    ]\n",
        "    print(\n",
        "        \"\\r%.2f%% complete (down: %.1f kB/s up: %.1f kB/s peers: %d) %s\"\n",
        "        % (\n",
        "            s.progress * 100,\n",
        "            s.download_rate / 1024,\n",
        "            s.upload_rate / 1024,\n",
        "            s.num_peers,\n",
        "            state_str[s.state],\n",
        "        )\n",
        "    )\n",
        "    sys.stdout.flush()\n",
        "    time.sleep(1)\n",
        "\n",
        "print(h.name(), \"complete\")"
      ],
      "execution_count": 0,
      "outputs": []
    },
    {
      "cell_type": "code",
      "metadata": {
        "id": "hVUfJnZauZ8Z",
        "colab_type": "code",
        "colab": {}
      },
      "source": [
        "import libtorrent as lt\n",
        "import time\n",
        "import sys\n",
        "\n",
        "ses = lt.session()\n",
        "ses.listen_on(6881, 6891)\n",
        "\n",
        "info = lt.torrent_info(list(uploaded.keys())[0])\n",
        "h = ses.add_torrent({\"ti\": info, \"save_path\": \"/content/drive/My Drive/Torrent\"})\n",
        "print(\"starting\", h.name())\n",
        "\n",
        "while not h.is_seed():\n",
        "    s = h.status()\n",
        "\n",
        "    state_str = [\n",
        "        \"queued\",\n",
        "        \"checking\",\n",
        "        \"downloading metadata\",\n",
        "        \"downloading\",\n",
        "        \"finished\",\n",
        "        \"seeding\",\n",
        "        \"allocating\",\n",
        "        \"checking fastresume\",\n",
        "    ]\n",
        "    print(\n",
        "        \"\\r%.2f%% complete (down: %.1f kb/s up: %.1f kB/s peers: %d) %s\"\n",
        "        % (\n",
        "            s.progress * 100,\n",
        "            s.download_rate / 1000,\n",
        "            s.upload_rate / 1000,\n",
        "            s.num_peers,\n",
        "            state_str[s.state],\n",
        "        )\n",
        "    )\n",
        "    sys.stdout.flush()\n",
        "    time.sleep(1)\n",
        "\n",
        "print(h.name(), \"complete\")"
      ],
      "execution_count": 0,
      "outputs": []
    },
    {
      "cell_type": "code",
      "metadata": {
        "id": "4AeoQQjSvYlX",
        "colab_type": "code",
        "colab": {}
      },
      "source": [
        "from google.colab import files\n",
        "uploaded = files.upload()"
      ],
      "execution_count": 0,
      "outputs": []
    },
    {
      "cell_type": "code",
      "metadata": {
        "id": "Xf69jUe9B_xK",
        "colab_type": "code",
        "colab": {}
      },
      "source": [
        "!CHEMIN_BDMV=`find \"$1\" -name \"BDMV\" -print0`\n",
        "if [[ $CHEMIN_BDMV == *BDMV* ]]; then\n",
        "\techo \"OK : BDMV Path found : $CHEMIN_BDMV\"\n",
        "else\n",
        "\techo \"KO : BDMV Path not found... EXIT\"\n",
        "\texit 1\n",
        "fi"
      ],
      "execution_count": 0,
      "outputs": []
    },
    {
      "cell_type": "code",
      "metadata": {
        "id": "OtB4Jzm9D1BX",
        "colab_type": "code",
        "colab": {}
      },
      "source": [
        "import libtorrent as lt\n",
        "import time\n",
        "import sys\n",
        "\n",
        "ses = lt.session()\n",
        "ses.listen_on(6881, 6891)\n",
        "\n",
        "params = { 'save_path': '/content/drive/My Drive/Movies'}\n",
        "link = \"magnet:?xt=urn:btih:871c23676ffa5c82d937668c28fbe0a52f04c7c9&dn=%5BHorribleSubs%5D%20One%20Piece%20%2801-700%29%20%5B1080p%5D%20%28Batch%29&tr=http%3A%2F%2Fnyaa.tracker.wf%3A7777%2Fannounce&tr=udp%3A%2F%2Fopen.stealth.si%3A80%2Fannounce&tr=udp%3A%2F%2Ftracker.opentrackr.org%3A1337%2Fannounce&tr=udp%3A%2F%2Ftracker.coppersurfer.tk%3A6969%2Fannounce&tr=udp%3A%2F%2Fexodus.desync.com%3A6969%2Fannounce\"\n",
        "h = lt.add_magnet_uri(ses, link, params)\n",
        "print(\"starting\", h.name())\n",
        "\n",
        "while not h.is_seed():\n",
        "    s = h.status()\n",
        "\n",
        "    state_str = [\n",
        "        \"queued\",\n",
        "        \"checking\",\n",
        "        \"downloading metadata\",\n",
        "        \"downloading\",\n",
        "        \"finished\",\n",
        "        \"seeding\",\n",
        "        \"allocating\",\n",
        "        \"checking fastresume\",\n",
        "    ]\n",
        "    print(\n",
        "        \"\\r%.2f%% complete (down: %.1f kB/s up: %.1f kB/s peers: %d) %s\"\n",
        "        % (\n",
        "            s.progress * 100,\n",
        "            s.download_rate / 1024,\n",
        "            s.upload_rate / 1024,\n",
        "            s.num_peers,\n",
        "            state_str[s.state],\n",
        "        )\n",
        "    )\n",
        "    sys.stdout.flush()\n",
        "    time.sleep(1)\n",
        "\n",
        "print(h.name(), \"complete\")"
      ],
      "execution_count": 0,
      "outputs": []
    },
    {
      "cell_type": "code",
      "metadata": {
        "id": "cYf9lpOhDYii",
        "colab_type": "code",
        "colab": {}
      },
      "source": [
        "!transmission-cli -w '/content/drive/My Drive/Movies' 'magnet:?xt=urn:btih:871c23676ffa5c82d937668c28fbe0a52f04c7c9&dn=%5BHorribleSubs%5D%20One%20Piece%20%2801-700%29%20%5B1080p%5D%20%28Batch%29&tr=http%3A%2F%2Fnyaa.tracker.wf%3A7777%2Fannounce&tr=udp%3A%2F%2Fopen.stealth.si%3A80%2Fannounce&tr=udp%3A%2F%2Ftracker.opentrackr.org%3A1337%2Fannounce&tr=udp%3A%2F%2Ftracker.coppersurfer.tk%3A6969%2Fannounce&tr=udp%3A%2F%2Fexodus.desync.com%3A6969%2Fannounce'"
      ],
      "execution_count": 0,
      "outputs": []
    }
  ]
}